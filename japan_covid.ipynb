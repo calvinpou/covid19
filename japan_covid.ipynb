{
  "nbformat": 4,
  "nbformat_minor": 0,
  "metadata": {
    "colab": {
      "name": "japan_covid.ipynb",
      "provenance": [],
      "authorship_tag": "ABX9TyMpH8cFz5agx8It4bzow68c",
      "include_colab_link": true
    },
    "kernelspec": {
      "name": "python3",
      "display_name": "Python 3"
    }
  },
  "cells": [
    {
      "cell_type": "markdown",
      "metadata": {
        "id": "view-in-github",
        "colab_type": "text"
      },
      "source": [
        "<a href=\"https://colab.research.google.com/github/calvinpou/covid19/blob/main/japan_covid.ipynb\" target=\"_parent\"><img src=\"https://colab.research.google.com/assets/colab-badge.svg\" alt=\"Open In Colab\"/></a>"
      ]
    },
    {
      "cell_type": "code",
      "metadata": {
        "id": "BUAHg-mTqIwm"
      },
      "source": [
        "import numpy as np\n",
        "import pandas as pd\n",
        "import json\n",
        "import requests"
      ],
      "execution_count": null,
      "outputs": []
    },
    {
      "cell_type": "code",
      "metadata": {
        "colab": {
          "base_uri": "https://localhost:8080/",
          "height": 35
        },
        "id": "MKEs8Rd2vgMR",
        "outputId": "7f53e8b6-f5b6-443f-eb48-4c5356c70cbf"
      },
      "source": [
        "url = \"https://covid19-japan-web-api.now.sh/api/v1/prefectures\"\n",
        "url"
      ],
      "execution_count": null,
      "outputs": [
        {
          "output_type": "execute_result",
          "data": {
            "application/vnd.google.colaboratory.intrinsic+json": {
              "type": "string"
            },
            "text/plain": [
              "'https://covid19-japan-web-api.now.sh/api/v1/prefectures'"
            ]
          },
          "metadata": {
            "tags": []
          },
          "execution_count": 2
        }
      ]
    },
    {
      "cell_type": "code",
      "metadata": {
        "id": "z9jyXvqIvicf"
      },
      "source": [
        "json_page = requests.get(url).content\n",
        "covids_list = json.loads(json_page)\n"
      ],
      "execution_count": null,
      "outputs": []
    },
    {
      "cell_type": "code",
      "metadata": {
        "colab": {
          "base_uri": "https://localhost:8080/"
        },
        "id": "w0PfCnuYw2In",
        "outputId": "65b2175a-a2b8-4cd9-c939-537d8deee119"
      },
      "source": [
        "type(covids_list[0])"
      ],
      "execution_count": null,
      "outputs": [
        {
          "output_type": "execute_result",
          "data": {
            "text/plain": [
              "dict"
            ]
          },
          "metadata": {
            "tags": []
          },
          "execution_count": 10
        }
      ]
    },
    {
      "cell_type": "code",
      "metadata": {
        "colab": {
          "base_uri": "https://localhost:8080/"
        },
        "id": "UOYprEV51BW0",
        "outputId": "8b362fd0-c67b-43e5-eee2-9ddcd787d3f4"
      },
      "source": [
        "covids_list[0]"
      ],
      "execution_count": null,
      "outputs": [
        {
          "output_type": "execute_result",
          "data": {
            "text/plain": [
              "{'cases': 5880,\n",
              " 'deaths': 131,\n",
              " 'discharge': 3846,\n",
              " 'hospitalize': 1903,\n",
              " 'id': 1,\n",
              " 'last_updated': {'cases_date': 20201119,\n",
              "  'deaths_date': 20201119,\n",
              "  'discharge_date': 20201119,\n",
              "  'hospitalize_date': 20201119,\n",
              "  'pcr_date': 20201119,\n",
              "  'severe_date': 20201119,\n",
              "  'symptom_confirming_date': 20201119},\n",
              " 'lat': 43.46722222,\n",
              " 'lng': 142.8277778,\n",
              " 'name_en': 'Hokkaido',\n",
              " 'name_ja': '北海道',\n",
              " 'pcr': 113037,\n",
              " 'population': 5248552,\n",
              " 'severe': 18,\n",
              " 'symptom_confirming': 0}"
            ]
          },
          "metadata": {
            "tags": []
          },
          "execution_count": 11
        }
      ]
    },
    {
      "cell_type": "code",
      "metadata": {
        "colab": {
          "base_uri": "https://localhost:8080/"
        },
        "id": "g3oKiHRr3x2Z",
        "outputId": "7553538a-cd4e-4d7f-a1ad-e30803b5db81"
      },
      "source": [
        "len(covids_list)"
      ],
      "execution_count": null,
      "outputs": [
        {
          "output_type": "execute_result",
          "data": {
            "text/plain": [
              "47"
            ]
          },
          "metadata": {
            "tags": []
          },
          "execution_count": 12
        }
      ]
    },
    {
      "cell_type": "code",
      "metadata": {
        "colab": {
          "base_uri": "https://localhost:8080/"
        },
        "id": "6ukxcU4t1EOX",
        "outputId": "e6298b00-d5f6-4ec3-a179-527e9f50f5b7"
      },
      "source": [
        "for i in range(len(covids_list)):\n",
        "  print(covids_list[i])"
      ],
      "execution_count": null,
      "outputs": [
        {
          "output_type": "stream",
          "text": [
            "{'id': 1, 'name_ja': '北海道', 'name_en': 'Hokkaido', 'lat': 43.46722222, 'lng': 142.8277778, 'population': 5248552, 'last_updated': {'cases_date': 20201119, 'deaths_date': 20201119, 'pcr_date': 20201119, 'hospitalize_date': 20201119, 'severe_date': 20201119, 'discharge_date': 20201119, 'symptom_confirming_date': 20201119}, 'cases': 5880, 'deaths': 131, 'pcr': 113037, 'hospitalize': 1903, 'severe': 18, 'discharge': 3846, 'symptom_confirming': 0}\n",
            "{'id': 2, 'name_ja': '青森', 'name_en': 'Aomori', 'lat': 40.78027778, 'lng': 140.83194440000003, 'population': 1246138, 'last_updated': {'cases_date': 20201119, 'deaths_date': 20201119, 'pcr_date': 20201119, 'hospitalize_date': 20201119, 'severe_date': 20201119, 'discharge_date': 20201119, 'symptom_confirming_date': 20201119}, 'cases': 280, 'deaths': 6, 'pcr': 6271, 'hospitalize': 27, 'severe': 2, 'discharge': 247, 'symptom_confirming': 0}\n",
            "{'id': 3, 'name_ja': '岩手', 'name_en': 'Iwate', 'lat': 39.59138889, 'lng': 141.3625, 'population': 1226430, 'last_updated': {'cases_date': 20201119, 'deaths_date': 20201119, 'pcr_date': 20201119, 'hospitalize_date': 20201119, 'severe_date': 20201119, 'discharge_date': 20201119, 'symptom_confirming_date': 20201119}, 'cases': 86, 'deaths': 0, 'pcr': 6865, 'hospitalize': 60, 'severe': 0, 'discharge': 22, 'symptom_confirming': 4}\n",
            "{'id': 4, 'name_ja': '宮城', 'name_en': 'Miyagi', 'lat': 38.44555556, 'lng': 140.9280556, 'population': 2303160, 'last_updated': {'cases_date': 20201119, 'deaths_date': 20201119, 'pcr_date': 20201119, 'hospitalize_date': 20201119, 'severe_date': 20201119, 'discharge_date': 20201119, 'symptom_confirming_date': 20201119}, 'cases': 1027, 'deaths': 8, 'pcr': 16829, 'hospitalize': 190, 'severe': 5, 'discharge': 829, 'symptom_confirming': 0}\n",
            "{'id': 5, 'name_ja': '秋田', 'name_en': 'Akita', 'lat': 39.7475, 'lng': 140.4086111, 'population': 965968, 'last_updated': {'cases_date': 20201119, 'deaths_date': 20201119, 'pcr_date': 20201119, 'hospitalize_date': 20201119, 'severe_date': 20201119, 'discharge_date': 20201119, 'symptom_confirming_date': 20201119}, 'cases': 74, 'deaths': 0, 'pcr': 3152, 'hospitalize': 7, 'severe': 1, 'discharge': 67, 'symptom_confirming': 0}\n",
            "{'id': 6, 'name_ja': '山形', 'name_en': 'Yamagata', 'lat': 38.44638889, 'lng': 140.1027778, 'population': 1077057, 'last_updated': {'cases_date': 20201119, 'deaths_date': 20201119, 'pcr_date': 20201119, 'hospitalize_date': 20201119, 'severe_date': 20201119, 'discharge_date': 20201119, 'symptom_confirming_date': 20201119}, 'cases': 100, 'deaths': 1, 'pcr': 7078, 'hospitalize': 14, 'severe': 0, 'discharge': 85, 'symptom_confirming': 0}\n",
            "{'id': 7, 'name_ja': '福島', 'name_en': 'Fukushima', 'lat': 37.37888889, 'lng': 140.22527780000001, 'population': 1847950, 'last_updated': {'cases_date': 20201119, 'deaths_date': 20201119, 'pcr_date': 20201119, 'hospitalize_date': 20201119, 'severe_date': 20201119, 'discharge_date': 20201119, 'symptom_confirming_date': 20201119}, 'cases': 453, 'deaths': 6, 'pcr': 36109, 'hospitalize': 45, 'severe': 5, 'discharge': 402, 'symptom_confirming': 0}\n",
            "{'id': 8, 'name_ja': '茨城', 'name_en': 'Ibaraki', 'lat': 36.30638889, 'lng': 140.3186111, 'population': 2868041, 'last_updated': {'cases_date': 20201119, 'deaths_date': 20201119, 'pcr_date': 20201119, 'hospitalize_date': 20201119, 'severe_date': 20201119, 'discharge_date': 20201119, 'symptom_confirming_date': 20201119}, 'cases': 1071, 'deaths': 18, 'pcr': 15243, 'hospitalize': 215, 'severe': 5, 'discharge': 838, 'symptom_confirming': 0}\n",
            "{'id': 9, 'name_ja': '栃木', 'name_en': 'Tochigi', 'lat': 36.68916667, 'lng': 139.81916669999998, 'population': 1942312, 'last_updated': {'cases_date': 20201119, 'deaths_date': 20201119, 'pcr_date': 20201119, 'hospitalize_date': 20201119, 'severe_date': 20201119, 'discharge_date': 20201119, 'symptom_confirming_date': 20201119}, 'cases': 527, 'deaths': 2, 'pcr': 48922, 'hospitalize': 34, 'severe': 4, 'discharge': 491, 'symptom_confirming': 0}\n",
            "{'id': 10, 'name_ja': '群馬', 'name_en': 'Gunma', 'lat': 36.50388889, 'lng': 138.9852778, 'population': 1937626, 'last_updated': {'cases_date': 20201119, 'deaths_date': 20201119, 'pcr_date': 20201119, 'hospitalize_date': 20201119, 'severe_date': 20201119, 'discharge_date': 20201119, 'symptom_confirming_date': 20201119}, 'cases': 974, 'deaths': 20, 'pcr': 33422, 'hospitalize': 46, 'severe': 2, 'discharge': 898, 'symptom_confirming': 10}\n",
            "{'id': 11, 'name_ja': '埼玉', 'name_en': 'Saitama', 'lat': 35.99666667, 'lng': 139.34777780000002, 'population': 7337330, 'last_updated': {'cases_date': 20201119, 'deaths_date': 20201119, 'pcr_date': 20201119, 'hospitalize_date': 20201119, 'severe_date': 20201119, 'discharge_date': 20201119, 'symptom_confirming_date': 20201119}, 'cases': 7122, 'deaths': 123, 'pcr': 212609, 'hospitalize': 861, 'severe': 15, 'discharge': 6138, 'symptom_confirming': 0}\n",
            "{'id': 12, 'name_ja': '千葉', 'name_en': 'Chiba', 'lat': 35.51277778, 'lng': 140.2038889, 'population': 6279026, 'last_updated': {'cases_date': 20201119, 'deaths_date': 20201119, 'pcr_date': 20201119, 'hospitalize_date': 20201119, 'severe_date': 20201119, 'discharge_date': 20201119, 'symptom_confirming_date': 20201119}, 'cases': 6003, 'deaths': 84, 'pcr': 148372, 'hospitalize': 644, 'severe': 8, 'discharge': 5275, 'symptom_confirming': 0}\n",
            "{'id': 13, 'name_ja': '東京', 'name_en': 'Tokyo', 'lat': 35.702313700000005, 'lng': 139.5803228, 'population': 13942856, 'last_updated': {'cases_date': 20201119, 'deaths_date': 20201119, 'pcr_date': 20201119, 'hospitalize_date': 20201119, 'severe_date': 20201119, 'discharge_date': 20201119, 'symptom_confirming_date': 20201119}, 'cases': 35722, 'deaths': 476, 'pcr': 686965, 'hospitalize': 3024, 'severe': 39, 'discharge': 32222, 'symptom_confirming': 0}\n",
            "{'id': 14, 'name_ja': '神奈川', 'name_en': 'Kanagawa', 'lat': 35.41416667, 'lng': 139.34027780000002, 'population': 9200166, 'last_updated': {'cases_date': 20201119, 'deaths_date': 20201119, 'pcr_date': 20201119, 'hospitalize_date': 20201119, 'severe_date': 20201119, 'discharge_date': 20201119, 'symptom_confirming_date': 20201119}, 'cases': 10575, 'deaths': 183, 'pcr': 229196, 'hospitalize': 1029, 'severe': 38, 'discharge': 9363, 'symptom_confirming': 0}\n",
            "{'id': 15, 'name_ja': '新潟', 'name_en': 'Niigata', 'lat': 37.51888889, 'lng': 138.91722219999997, 'population': 2222004, 'last_updated': {'cases_date': 20201119, 'deaths_date': 20201119, 'pcr_date': 20201119, 'hospitalize_date': 20201119, 'severe_date': 20201119, 'discharge_date': 20201119, 'symptom_confirming_date': 20201119}, 'cases': 273, 'deaths': 0, 'pcr': 20328, 'hospitalize': 86, 'severe': 1, 'discharge': 187, 'symptom_confirming': 0}\n",
            "{'id': 16, 'name_ja': '富山', 'name_en': 'Toyama', 'lat': 36.63611111, 'lng': 137.2680556, 'population': 1042998, 'last_updated': {'cases_date': 20201119, 'deaths_date': 20201119, 'pcr_date': 20201119, 'hospitalize_date': 20201119, 'severe_date': 20201119, 'discharge_date': 20201119, 'symptom_confirming_date': 20201119}, 'cases': 435, 'deaths': 26, 'pcr': 15674, 'hospitalize': 10, 'severe': 0, 'discharge': 399, 'symptom_confirming': 0}\n",
            "{'id': 17, 'name_ja': '石川', 'name_en': 'Ishikawa', 'lat': 36.76583333, 'lng': 136.7713889, 'population': 1137181, 'last_updated': {'cases_date': 20201119, 'deaths_date': 20201119, 'pcr_date': 20201119, 'hospitalize_date': 20201119, 'severe_date': 20201119, 'discharge_date': 20201119, 'symptom_confirming_date': 20201119}, 'cases': 830, 'deaths': 49, 'pcr': 20120, 'hospitalize': 7, 'severe': 0, 'discharge': 774, 'symptom_confirming': 0}\n",
            "{'id': 18, 'name_ja': '福井', 'name_en': 'Fukui', 'lat': 35.84666667, 'lng': 136.22722219999997, 'population': 767742, 'last_updated': {'cases_date': 20201119, 'deaths_date': 20201119, 'pcr_date': 20201119, 'hospitalize_date': 20201119, 'severe_date': 20201119, 'discharge_date': 20201119, 'symptom_confirming_date': 20201119}, 'cases': 289, 'deaths': 11, 'pcr': 12776, 'hospitalize': 28, 'severe': 1, 'discharge': 250, 'symptom_confirming': 0}\n",
            "{'id': 19, 'name_ja': '山梨', 'name_en': 'Yamanashi', 'lat': 35.61222222, 'lng': 138.6116667, 'population': 812056, 'last_updated': {'cases_date': 20201119, 'deaths_date': 20201119, 'pcr_date': 20201119, 'hospitalize_date': 20201119, 'severe_date': 20201119, 'discharge_date': 20201119, 'symptom_confirming_date': 20201119}, 'cases': 291, 'deaths': 6, 'pcr': 12727, 'hospitalize': 51, 'severe': 2, 'discharge': 234, 'symptom_confirming': 0}\n",
            "{'id': 20, 'name_ja': '長野', 'name_en': 'Nagano', 'lat': 36.13, 'lng': 138.04388889999998, 'population': 2049023, 'last_updated': {'cases_date': 20201119, 'deaths_date': 20201119, 'pcr_date': 20201119, 'hospitalize_date': 20201119, 'severe_date': 20201119, 'discharge_date': 20201119, 'symptom_confirming_date': 20201119}, 'cases': 525, 'deaths': 6, 'pcr': 27127, 'hospitalize': 149, 'severe': 0, 'discharge': 370, 'symptom_confirming': 0}\n",
            "{'id': 21, 'name_ja': '岐阜', 'name_en': 'Gifu', 'lat': 35.7775, 'lng': 137.055, 'population': 1988931, 'last_updated': {'cases_date': 20201119, 'deaths_date': 20201119, 'pcr_date': 20201119, 'hospitalize_date': 20201119, 'severe_date': 20201119, 'discharge_date': 20201119, 'symptom_confirming_date': 20201119}, 'cases': 855, 'deaths': 13, 'pcr': 30444, 'hospitalize': 108, 'severe': 0, 'discharge': 734, 'symptom_confirming': 0}\n",
            "{'id': 22, 'name_ja': '静岡', 'name_en': 'Shizuoka', 'lat': 35.01694444, 'lng': 138.33, 'population': 3639226, 'last_updated': {'cases_date': 20201119, 'deaths_date': 20201119, 'pcr_date': 20201119, 'hospitalize_date': 20201119, 'severe_date': 20201119, 'discharge_date': 20201119, 'symptom_confirming_date': 20201119}, 'cases': 978, 'deaths': 4, 'pcr': 50183, 'hospitalize': 229, 'severe': 3, 'discharge': 745, 'symptom_confirming': 0}\n",
            "{'id': 23, 'name_ja': '愛知', 'name_en': 'Aichi', 'lat': 35.03444444, 'lng': 137.215, 'population': 7552873, 'last_updated': {'cases_date': 20201119, 'deaths_date': 20201119, 'pcr_date': 20201119, 'hospitalize_date': 20201119, 'severe_date': 20201119, 'discharge_date': 20201119, 'symptom_confirming_date': 20201119}, 'cases': 7902, 'deaths': 101, 'pcr': 119953, 'hospitalize': 1189, 'severe': 15, 'discharge': 6612, 'symptom_confirming': 0}\n",
            "{'id': 24, 'name_ja': '三重', 'name_en': 'Mie', 'lat': 34.51361111, 'lng': 136.3813889, 'population': 1779770, 'last_updated': {'cases_date': 20201119, 'deaths_date': 20201119, 'pcr_date': 20201119, 'hospitalize_date': 20201119, 'severe_date': 20201119, 'discharge_date': 20201119, 'symptom_confirming_date': 20201119}, 'cases': 645, 'deaths': 7, 'pcr': 17127, 'hospitalize': 54, 'severe': 4, 'discharge': 584, 'symptom_confirming': 0}\n",
            "{'id': 25, 'name_ja': '滋賀', 'name_en': 'Shiga', 'lat': 35.21527778, 'lng': 136.13805559999997, 'population': 1413959, 'last_updated': {'cases_date': 20201119, 'deaths_date': 20201119, 'pcr_date': 20201119, 'hospitalize_date': 20201119, 'severe_date': 20201119, 'discharge_date': 20201119, 'symptom_confirming_date': 20201119}, 'cases': 696, 'deaths': 9, 'pcr': 14966, 'hospitalize': 76, 'severe': 0, 'discharge': 611, 'symptom_confirming': 0}\n",
            "{'id': 26, 'name_ja': '京都', 'name_en': 'Kyoto', 'lat': 35.25194444, 'lng': 135.4458333, 'population': 2583140, 'last_updated': {'cases_date': 20201119, 'deaths_date': 20201119, 'pcr_date': 20201119, 'hospitalize_date': 20201119, 'severe_date': 20201119, 'discharge_date': 20201119, 'symptom_confirming_date': 20201119}, 'cases': 2356, 'deaths': 35, 'pcr': 58824, 'hospitalize': 191, 'severe': 3, 'discharge': 2130, 'symptom_confirming': 0}\n",
            "{'id': 27, 'name_ja': '大阪', 'name_en': 'Osaka', 'lat': 34.62277778, 'lng': 135.5111111, 'population': 8823453, 'last_updated': {'cases_date': 20201119, 'deaths_date': 20201119, 'pcr_date': 20201119, 'hospitalize_date': 20201119, 'severe_date': 20201119, 'discharge_date': 20201119, 'symptom_confirming_date': 20201119}, 'cases': 16036, 'deaths': 265, 'pcr': 280378, 'hospitalize': 2036, 'severe': 72, 'discharge': 13716, 'symptom_confirming': 19}\n",
            "{'id': 28, 'name_ja': '兵庫', 'name_en': 'Hyogo', 'lat': 35.03694444, 'lng': 134.8286111, 'population': 5463609, 'last_updated': {'cases_date': 20201119, 'deaths_date': 20201119, 'pcr_date': 20201119, 'hospitalize_date': 20201119, 'severe_date': 20201119, 'discharge_date': 20201119, 'symptom_confirming_date': 20201119}, 'cases': 4120, 'deaths': 75, 'pcr': 79834, 'hospitalize': 459, 'severe': 17, 'discharge': 3586, 'symptom_confirming': 0}\n",
            "{'id': 29, 'name_ja': '奈良', 'name_en': 'Nara', 'lat': 34.31555556, 'lng': 135.8713889, 'population': 1331330, 'last_updated': {'cases_date': 20201119, 'deaths_date': 20201119, 'pcr_date': 20201119, 'hospitalize_date': 20201119, 'severe_date': 20201119, 'discharge_date': 20201119, 'symptom_confirming_date': 20201119}, 'cases': 896, 'deaths': 11, 'pcr': 28985, 'hospitalize': 154, 'severe': 3, 'discharge': 731, 'symptom_confirming': 0}\n",
            "{'id': 30, 'name_ja': '和歌山', 'name_en': 'Wakayama', 'lat': 33.90944444, 'lng': 135.5133333, 'population': 923721, 'last_updated': {'cases_date': 20201119, 'deaths_date': 20201119, 'pcr_date': 20201119, 'hospitalize_date': 20201119, 'severe_date': 20201119, 'discharge_date': 20201119, 'symptom_confirming_date': 20201119}, 'cases': 346, 'deaths': 4, 'pcr': 11643, 'hospitalize': 52, 'severe': 4, 'discharge': 284, 'symptom_confirming': 6}\n",
            "{'id': 31, 'name_ja': '鳥取', 'name_en': 'Tottori', 'lat': 35.36055556, 'lng': 133.8516667, 'population': 555663, 'last_updated': {'cases_date': 20201119, 'deaths_date': 20201119, 'pcr_date': 20201119, 'hospitalize_date': 20201119, 'severe_date': 20201119, 'discharge_date': 20201119, 'symptom_confirming_date': 20201119}, 'cases': 53, 'deaths': 0, 'pcr': 6156, 'hospitalize': 12, 'severe': 0, 'discharge': 41, 'symptom_confirming': 0}\n",
            "{'id': 32, 'name_ja': '島根', 'name_en': 'Shimane', 'lat': 35.07305556, 'lng': 132.55944440000002, 'population': 673891, 'last_updated': {'cases_date': 20201119, 'deaths_date': 20201119, 'pcr_date': 20201119, 'hospitalize_date': 20201119, 'severe_date': 20201119, 'discharge_date': 20201119, 'symptom_confirming_date': 20201119}, 'cases': 142, 'deaths': 0, 'pcr': 6354, 'hospitalize': 1, 'severe': 0, 'discharge': 141, 'symptom_confirming': 0}\n",
            "{'id': 33, 'name_ja': '岡山', 'name_en': 'Okayama', 'lat': 34.90083333, 'lng': 133.8152778, 'population': 1891346, 'last_updated': {'cases_date': 20201119, 'deaths_date': 20201119, 'pcr_date': 20201119, 'hospitalize_date': 20201119, 'severe_date': 20201119, 'discharge_date': 20201119, 'symptom_confirming_date': 20201119}, 'cases': 430, 'deaths': 10, 'pcr': 14762, 'hospitalize': 80, 'severe': 1, 'discharge': 258, 'symptom_confirming': 82}\n",
            "{'id': 34, 'name_ja': '広島', 'name_en': 'Hiroshima', 'lat': 34.60361111, 'lng': 132.7875, 'population': 2807987, 'last_updated': {'cases_date': 20201119, 'deaths_date': 20201119, 'pcr_date': 20201119, 'hospitalize_date': 20201119, 'severe_date': 20201119, 'discharge_date': 20201119, 'symptom_confirming_date': 20201119}, 'cases': 710, 'deaths': 5, 'pcr': 30887, 'hospitalize': 34, 'severe': 0, 'discharge': 669, 'symptom_confirming': 2}\n",
            "{'id': 35, 'name_ja': '山口', 'name_en': 'Yamaguchi', 'lat': 34.19861111, 'lng': 131.575, 'population': 1355495, 'last_updated': {'cases_date': 20201119, 'deaths_date': 20201119, 'pcr_date': 20201119, 'hospitalize_date': 20201119, 'severe_date': 20201119, 'discharge_date': 20201119, 'symptom_confirming_date': 20201119}, 'cases': 285, 'deaths': 2, 'pcr': 13795, 'hospitalize': 59, 'severe': 2, 'discharge': 222, 'symptom_confirming': 2}\n",
            "{'id': 36, 'name_ja': '徳島', 'name_en': 'Tokushima', 'lat': 33.91805556, 'lng': 134.2430556, 'population': 728633, 'last_updated': {'cases_date': 20201119, 'deaths_date': 20201119, 'pcr_date': 20201119, 'hospitalize_date': 20201119, 'severe_date': 20201119, 'discharge_date': 20201119, 'symptom_confirming_date': 20201119}, 'cases': 174, 'deaths': 9, 'pcr': 7682, 'hospitalize': 7, 'severe': 2, 'discharge': 158, 'symptom_confirming': 0}\n",
            "{'id': 37, 'name_ja': '香川', 'name_en': 'Kagawa', 'lat': 34.24305556, 'lng': 133.99666670000002, 'population': 956069, 'last_updated': {'cases_date': 20201119, 'deaths_date': 20201119, 'pcr_date': 20201119, 'hospitalize_date': 20201119, 'severe_date': 20201119, 'discharge_date': 20201119, 'symptom_confirming_date': 20201119}, 'cases': 122, 'deaths': 2, 'pcr': 15450, 'hospitalize': 17, 'severe': 0, 'discharge': 103, 'symptom_confirming': 0}\n",
            "{'id': 38, 'name_ja': '愛媛', 'name_en': 'Ehime', 'lat': 33.62194444, 'lng': 132.8558333, 'population': 1338811, 'last_updated': {'cases_date': 20201119, 'deaths_date': 20201119, 'pcr_date': 20201119, 'hospitalize_date': 20201119, 'severe_date': 20201119, 'discharge_date': 20201119, 'symptom_confirming_date': 20201119}, 'cases': 144, 'deaths': 6, 'pcr': 4819, 'hospitalize': 27, 'severe': 0, 'discharge': 111, 'symptom_confirming': 0}\n",
            "{'id': 39, 'name_ja': '高知', 'name_en': 'Kōchi', 'lat': 33.42111111, 'lng': 133.36666670000002, 'population': 697674, 'last_updated': {'cases_date': 20201119, 'deaths_date': 20201119, 'pcr_date': 20201119, 'hospitalize_date': 20201119, 'severe_date': 20201119, 'discharge_date': 20201119, 'symptom_confirming_date': 20201119}, 'cases': 144, 'deaths': 4, 'pcr': 3693, 'hospitalize': 0, 'severe': 0, 'discharge': 140, 'symptom_confirming': 0}\n",
            "{'id': 40, 'name_ja': '福岡', 'name_en': 'Fukuoka', 'lat': 33.5225, 'lng': 130.66805559999997, 'population': 5110113, 'last_updated': {'cases_date': 20201119, 'deaths_date': 20201119, 'pcr_date': 20201119, 'hospitalize_date': 20201119, 'severe_date': 20201119, 'discharge_date': 20201119, 'symptom_confirming_date': 20201119}, 'cases': 5420, 'deaths': 105, 'pcr': 184084, 'hospitalize': 112, 'severe': 3, 'discharge': 5203, 'symptom_confirming': 0}\n",
            "{'id': 41, 'name_ja': '佐賀', 'name_en': 'Saga', 'lat': 33.28527778, 'lng': 130.11694440000002, 'population': 814211, 'last_updated': {'cases_date': 20201119, 'deaths_date': 20201119, 'pcr_date': 20201119, 'hospitalize_date': 20201119, 'severe_date': 20201119, 'discharge_date': 20201119, 'symptom_confirming_date': 20201119}, 'cases': 284, 'deaths': 1, 'pcr': 8340, 'hospitalize': 16, 'severe': 0, 'discharge': 267, 'symptom_confirming': 0}\n",
            "{'id': 42, 'name_ja': '長崎', 'name_en': 'Nagasaki', 'lat': 33.2275, 'lng': 129.61416670000003, 'population': 1325205, 'last_updated': {'cases_date': 20201119, 'deaths_date': 20201119, 'pcr_date': 20201119, 'hospitalize_date': 20201119, 'severe_date': 20201119, 'discharge_date': 20201119, 'symptom_confirming_date': 20201119}, 'cases': 252, 'deaths': 3, 'pcr': 25087, 'hospitalize': 6, 'severe': 0, 'discharge': 243, 'symptom_confirming': 0}\n",
            "{'id': 43, 'name_ja': '熊本', 'name_en': 'Kumamoto', 'lat': 32.615, 'lng': 130.7563889, 'population': 1746740, 'last_updated': {'cases_date': 20201119, 'deaths_date': 20201119, 'pcr_date': 20201119, 'hospitalize_date': 20201119, 'severe_date': 20201119, 'discharge_date': 20201119, 'symptom_confirming_date': 20201119}, 'cases': 939, 'deaths': 10, 'pcr': 22475, 'hospitalize': 67, 'severe': 3, 'discharge': 834, 'symptom_confirming': 28}\n",
            "{'id': 44, 'name_ja': '大分', 'name_en': 'Oita', 'lat': 33.19916667, 'lng': 131.43416670000002, 'population': 1134431, 'last_updated': {'cases_date': 20201119, 'deaths_date': 20201119, 'pcr_date': 20201119, 'hospitalize_date': 20201119, 'severe_date': 20201119, 'discharge_date': 20201119, 'symptom_confirming_date': 20201119}, 'cases': 189, 'deaths': 3, 'pcr': 23843, 'hospitalize': 28, 'severe': 0, 'discharge': 158, 'symptom_confirming': 0}\n",
            "{'id': 45, 'name_ja': '宮崎', 'name_en': 'Miyazaki', 'lat': 32.19083333, 'lng': 131.3005556, 'population': 1072077, 'last_updated': {'cases_date': 20201119, 'deaths_date': 20201119, 'pcr_date': 20201119, 'hospitalize_date': 20201119, 'severe_date': 20201119, 'discharge_date': 20201119, 'symptom_confirming_date': 20201119}, 'cases': 385, 'deaths': 1, 'pcr': 8852, 'hospitalize': 13, 'severe': 0, 'discharge': 371, 'symptom_confirming': 0}\n",
            "{'id': 46, 'name_ja': '鹿児島', 'name_en': 'Kagoshima', 'lat': 31.01277778, 'lng': 130.4241667, 'population': 1599984, 'last_updated': {'cases_date': 20201119, 'deaths_date': 20201119, 'pcr_date': 20201119, 'hospitalize_date': 20201119, 'severe_date': 20201119, 'discharge_date': 20201119, 'symptom_confirming_date': 20201119}, 'cases': 558, 'deaths': 13, 'pcr': 25132, 'hospitalize': 45, 'severe': 0, 'discharge': 500, 'symptom_confirming': 0}\n",
            "{'id': 47, 'name_ja': '沖縄', 'name_en': 'Okinawa', 'lat': 25.77111111, 'lng': 126.64, 'population': 1454184, 'last_updated': {'cases_date': 20201119, 'deaths_date': 20201119, 'pcr_date': 20201119, 'hospitalize_date': 20201119, 'severe_date': 20201119, 'discharge_date': 20201119, 'symptom_confirming_date': 20201119}, 'cases': 3833, 'deaths': 67, 'pcr': 65427, 'hospitalize': 331, 'severe': 2, 'discharge': 3435, 'symptom_confirming': 0}\n"
          ],
          "name": "stdout"
        }
      ]
    },
    {
      "cell_type": "code",
      "metadata": {
        "colab": {
          "base_uri": "https://localhost:8080/",
          "height": 35
        },
        "id": "Ve9yj_URw_Gc",
        "outputId": "112c572e-cc42-4f05-c055-61b22df08c75"
      },
      "source": [
        "covids_list[12][\"name_ja\"]"
      ],
      "execution_count": null,
      "outputs": [
        {
          "output_type": "execute_result",
          "data": {
            "application/vnd.google.colaboratory.intrinsic+json": {
              "type": "string"
            },
            "text/plain": [
              "'東京'"
            ]
          },
          "metadata": {
            "tags": []
          },
          "execution_count": 14
        }
      ]
    },
    {
      "cell_type": "code",
      "metadata": {
        "colab": {
          "base_uri": "https://localhost:8080/"
        },
        "id": "orN4bQL-0vw-",
        "outputId": "08d63664-f1e2-4e81-f46a-52653619f6d0"
      },
      "source": [
        "print(covids_list[12][\"name_ja\"])\n",
        "print(covids_list[12][\"last_updated\"][\"cases_date\"])\n",
        "print(covids_list[12][\"cases\"])\n",
        "print(covids_list[12][\"deaths\"])\n",
        "print(covids_list[12][\"pcr\"])"
      ],
      "execution_count": null,
      "outputs": [
        {
          "output_type": "stream",
          "text": [
            "東京\n",
            "20201119\n",
            "35722\n",
            "476\n",
            "686965\n"
          ],
          "name": "stdout"
        }
      ]
    },
    {
      "cell_type": "code",
      "metadata": {
        "colab": {
          "base_uri": "https://localhost:8080/"
        },
        "id": "7X_jC42J74Fx",
        "outputId": "97b99000-9cdb-4a50-e79f-77db6895428b"
      },
      "source": [
        "for covid in covids_list:\n",
        "  print(covid[\"name_ja\"])\n",
        "  print(f'Date Update: {covid[\"last_updated\"][\"cases_date\"]}')\n",
        "  print(f'cases: {covid[\"cases\"]}')\n",
        "  print(f'deaths: {covid[\"deaths\"]}')\n",
        "  print(f'pcr: {covid[\"pcr\"]}')\n",
        "  print('-'*100)"
      ],
      "execution_count": null,
      "outputs": [
        {
          "output_type": "stream",
          "text": [
            "北海道\n",
            "Date Update: 20201119\n",
            "cases: 5880\n",
            "deaths: 131\n",
            "pcr: 113037\n",
            "----------------------------------------------------------------------------------------------------\n",
            "青森\n",
            "Date Update: 20201119\n",
            "cases: 280\n",
            "deaths: 6\n",
            "pcr: 6271\n",
            "----------------------------------------------------------------------------------------------------\n",
            "岩手\n",
            "Date Update: 20201119\n",
            "cases: 86\n",
            "deaths: 0\n",
            "pcr: 6865\n",
            "----------------------------------------------------------------------------------------------------\n",
            "宮城\n",
            "Date Update: 20201119\n",
            "cases: 1027\n",
            "deaths: 8\n",
            "pcr: 16829\n",
            "----------------------------------------------------------------------------------------------------\n",
            "秋田\n",
            "Date Update: 20201119\n",
            "cases: 74\n",
            "deaths: 0\n",
            "pcr: 3152\n",
            "----------------------------------------------------------------------------------------------------\n",
            "山形\n",
            "Date Update: 20201119\n",
            "cases: 100\n",
            "deaths: 1\n",
            "pcr: 7078\n",
            "----------------------------------------------------------------------------------------------------\n",
            "福島\n",
            "Date Update: 20201119\n",
            "cases: 453\n",
            "deaths: 6\n",
            "pcr: 36109\n",
            "----------------------------------------------------------------------------------------------------\n",
            "茨城\n",
            "Date Update: 20201119\n",
            "cases: 1071\n",
            "deaths: 18\n",
            "pcr: 15243\n",
            "----------------------------------------------------------------------------------------------------\n",
            "栃木\n",
            "Date Update: 20201119\n",
            "cases: 527\n",
            "deaths: 2\n",
            "pcr: 48922\n",
            "----------------------------------------------------------------------------------------------------\n",
            "群馬\n",
            "Date Update: 20201119\n",
            "cases: 974\n",
            "deaths: 20\n",
            "pcr: 33422\n",
            "----------------------------------------------------------------------------------------------------\n",
            "埼玉\n",
            "Date Update: 20201119\n",
            "cases: 7122\n",
            "deaths: 123\n",
            "pcr: 212609\n",
            "----------------------------------------------------------------------------------------------------\n",
            "千葉\n",
            "Date Update: 20201119\n",
            "cases: 6003\n",
            "deaths: 84\n",
            "pcr: 148372\n",
            "----------------------------------------------------------------------------------------------------\n",
            "東京\n",
            "Date Update: 20201119\n",
            "cases: 35722\n",
            "deaths: 476\n",
            "pcr: 686965\n",
            "----------------------------------------------------------------------------------------------------\n",
            "神奈川\n",
            "Date Update: 20201119\n",
            "cases: 10575\n",
            "deaths: 183\n",
            "pcr: 229196\n",
            "----------------------------------------------------------------------------------------------------\n",
            "新潟\n",
            "Date Update: 20201119\n",
            "cases: 273\n",
            "deaths: 0\n",
            "pcr: 20328\n",
            "----------------------------------------------------------------------------------------------------\n",
            "富山\n",
            "Date Update: 20201119\n",
            "cases: 435\n",
            "deaths: 26\n",
            "pcr: 15674\n",
            "----------------------------------------------------------------------------------------------------\n",
            "石川\n",
            "Date Update: 20201119\n",
            "cases: 830\n",
            "deaths: 49\n",
            "pcr: 20120\n",
            "----------------------------------------------------------------------------------------------------\n",
            "福井\n",
            "Date Update: 20201119\n",
            "cases: 289\n",
            "deaths: 11\n",
            "pcr: 12776\n",
            "----------------------------------------------------------------------------------------------------\n",
            "山梨\n",
            "Date Update: 20201119\n",
            "cases: 291\n",
            "deaths: 6\n",
            "pcr: 12727\n",
            "----------------------------------------------------------------------------------------------------\n",
            "長野\n",
            "Date Update: 20201119\n",
            "cases: 525\n",
            "deaths: 6\n",
            "pcr: 27127\n",
            "----------------------------------------------------------------------------------------------------\n",
            "岐阜\n",
            "Date Update: 20201119\n",
            "cases: 855\n",
            "deaths: 13\n",
            "pcr: 30444\n",
            "----------------------------------------------------------------------------------------------------\n",
            "静岡\n",
            "Date Update: 20201119\n",
            "cases: 978\n",
            "deaths: 4\n",
            "pcr: 50183\n",
            "----------------------------------------------------------------------------------------------------\n",
            "愛知\n",
            "Date Update: 20201119\n",
            "cases: 7902\n",
            "deaths: 101\n",
            "pcr: 119953\n",
            "----------------------------------------------------------------------------------------------------\n",
            "三重\n",
            "Date Update: 20201119\n",
            "cases: 645\n",
            "deaths: 7\n",
            "pcr: 17127\n",
            "----------------------------------------------------------------------------------------------------\n",
            "滋賀\n",
            "Date Update: 20201119\n",
            "cases: 696\n",
            "deaths: 9\n",
            "pcr: 14966\n",
            "----------------------------------------------------------------------------------------------------\n",
            "京都\n",
            "Date Update: 20201119\n",
            "cases: 2356\n",
            "deaths: 35\n",
            "pcr: 58824\n",
            "----------------------------------------------------------------------------------------------------\n",
            "大阪\n",
            "Date Update: 20201119\n",
            "cases: 16036\n",
            "deaths: 265\n",
            "pcr: 280378\n",
            "----------------------------------------------------------------------------------------------------\n",
            "兵庫\n",
            "Date Update: 20201119\n",
            "cases: 4120\n",
            "deaths: 75\n",
            "pcr: 79834\n",
            "----------------------------------------------------------------------------------------------------\n",
            "奈良\n",
            "Date Update: 20201119\n",
            "cases: 896\n",
            "deaths: 11\n",
            "pcr: 28985\n",
            "----------------------------------------------------------------------------------------------------\n",
            "和歌山\n",
            "Date Update: 20201119\n",
            "cases: 346\n",
            "deaths: 4\n",
            "pcr: 11643\n",
            "----------------------------------------------------------------------------------------------------\n",
            "鳥取\n",
            "Date Update: 20201119\n",
            "cases: 53\n",
            "deaths: 0\n",
            "pcr: 6156\n",
            "----------------------------------------------------------------------------------------------------\n",
            "島根\n",
            "Date Update: 20201119\n",
            "cases: 142\n",
            "deaths: 0\n",
            "pcr: 6354\n",
            "----------------------------------------------------------------------------------------------------\n",
            "岡山\n",
            "Date Update: 20201119\n",
            "cases: 430\n",
            "deaths: 10\n",
            "pcr: 14762\n",
            "----------------------------------------------------------------------------------------------------\n",
            "広島\n",
            "Date Update: 20201119\n",
            "cases: 710\n",
            "deaths: 5\n",
            "pcr: 30887\n",
            "----------------------------------------------------------------------------------------------------\n",
            "山口\n",
            "Date Update: 20201119\n",
            "cases: 285\n",
            "deaths: 2\n",
            "pcr: 13795\n",
            "----------------------------------------------------------------------------------------------------\n",
            "徳島\n",
            "Date Update: 20201119\n",
            "cases: 174\n",
            "deaths: 9\n",
            "pcr: 7682\n",
            "----------------------------------------------------------------------------------------------------\n",
            "香川\n",
            "Date Update: 20201119\n",
            "cases: 122\n",
            "deaths: 2\n",
            "pcr: 15450\n",
            "----------------------------------------------------------------------------------------------------\n",
            "愛媛\n",
            "Date Update: 20201119\n",
            "cases: 144\n",
            "deaths: 6\n",
            "pcr: 4819\n",
            "----------------------------------------------------------------------------------------------------\n",
            "高知\n",
            "Date Update: 20201119\n",
            "cases: 144\n",
            "deaths: 4\n",
            "pcr: 3693\n",
            "----------------------------------------------------------------------------------------------------\n",
            "福岡\n",
            "Date Update: 20201119\n",
            "cases: 5420\n",
            "deaths: 105\n",
            "pcr: 184084\n",
            "----------------------------------------------------------------------------------------------------\n",
            "佐賀\n",
            "Date Update: 20201119\n",
            "cases: 284\n",
            "deaths: 1\n",
            "pcr: 8340\n",
            "----------------------------------------------------------------------------------------------------\n",
            "長崎\n",
            "Date Update: 20201119\n",
            "cases: 252\n",
            "deaths: 3\n",
            "pcr: 25087\n",
            "----------------------------------------------------------------------------------------------------\n",
            "熊本\n",
            "Date Update: 20201119\n",
            "cases: 939\n",
            "deaths: 10\n",
            "pcr: 22475\n",
            "----------------------------------------------------------------------------------------------------\n",
            "大分\n",
            "Date Update: 20201119\n",
            "cases: 189\n",
            "deaths: 3\n",
            "pcr: 23843\n",
            "----------------------------------------------------------------------------------------------------\n",
            "宮崎\n",
            "Date Update: 20201119\n",
            "cases: 385\n",
            "deaths: 1\n",
            "pcr: 8852\n",
            "----------------------------------------------------------------------------------------------------\n",
            "鹿児島\n",
            "Date Update: 20201119\n",
            "cases: 558\n",
            "deaths: 13\n",
            "pcr: 25132\n",
            "----------------------------------------------------------------------------------------------------\n",
            "沖縄\n",
            "Date Update: 20201119\n",
            "cases: 3833\n",
            "deaths: 67\n",
            "pcr: 65427\n",
            "----------------------------------------------------------------------------------------------------\n"
          ],
          "name": "stdout"
        }
      ]
    },
    {
      "cell_type": "code",
      "metadata": {
        "colab": {
          "base_uri": "https://localhost:8080/",
          "height": 181
        },
        "id": "BtZPKzOAAejg",
        "outputId": "8dae4fa2-d84c-48d3-a388-40f77dc71746"
      },
      "source": [
        "covids_df = pd.DataFrame(covids_list)\n",
        "covids_df[\"last_updated\"]"
      ],
      "execution_count": null,
      "outputs": [
        {
          "output_type": "error",
          "ename": "NameError",
          "evalue": "ignored",
          "traceback": [
            "\u001b[0;31m---------------------------------------------------------------------------\u001b[0m",
            "\u001b[0;31mNameError\u001b[0m                                 Traceback (most recent call last)",
            "\u001b[0;32m<ipython-input-1-420cdc688fad>\u001b[0m in \u001b[0;36m<module>\u001b[0;34m()\u001b[0m\n\u001b[0;32m----> 1\u001b[0;31m \u001b[0mcovids_df\u001b[0m \u001b[0;34m=\u001b[0m \u001b[0mpd\u001b[0m\u001b[0;34m.\u001b[0m\u001b[0mDataFrame\u001b[0m\u001b[0;34m(\u001b[0m\u001b[0mcovids_list\u001b[0m\u001b[0;34m)\u001b[0m\u001b[0;34m\u001b[0m\u001b[0;34m\u001b[0m\u001b[0m\n\u001b[0m\u001b[1;32m      2\u001b[0m \u001b[0mcovids_df\u001b[0m\u001b[0;34m[\u001b[0m\u001b[0;34m\"last_updated\"\u001b[0m\u001b[0;34m]\u001b[0m\u001b[0;34m\u001b[0m\u001b[0;34m\u001b[0m\u001b[0m\n",
            "\u001b[0;31mNameError\u001b[0m: name 'pd' is not defined"
          ]
        }
      ]
    },
    {
      "cell_type": "code",
      "metadata": {
        "colab": {
          "base_uri": "https://localhost:8080/",
          "height": 574
        },
        "id": "4vAaO-sxDSpC",
        "outputId": "245815b6-1038-44db-df77-72cf2d9ba827"
      },
      "source": [
        "covids_df.plot.bar(x = \"name_en\",y = \"cases\",figsize = (20,8),fontsize = 12,grid = True)\n",
        "\n",
        "import matplotlib.pyplot as plt\n",
        "plt.title('Japan Covid Cases', fontsize = 14)\n",
        "plt.xlabel('Number of Cases', fontsize = 13)\n",
        "plt.xticks(covids_df.index[::],rotation=90)\n",
        "plt.ylabel('Total Cases', fontsize = 13)\n",
        "plt.legend()\n",
        "plt.show()\n"
      ],
      "execution_count": null,
      "outputs": [
        {
          "output_type": "display_data",
          "data": {
            "image/png": "[encoded data removed]",
            "text/plain": [
              "<Figure size 1440x576 with 1 Axes>"
            ]
          },
          "metadata": {
            "tags": [],
            "needs_background": "light"
          }
        }
      ]
    },
    {
      "cell_type": "code",
      "metadata": {
        "id": "rvIk1oI1T-s3"
      },
      "source": [
        ""
      ],
      "execution_count": 1,
      "outputs": []
    }
  ]
}